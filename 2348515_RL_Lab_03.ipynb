{
  "nbformat": 4,
  "nbformat_minor": 0,
  "metadata": {
    "colab": {
      "provenance": [],
      "authorship_tag": "ABX9TyOswNDYK1ulVQDqiqfE+lyq",
      "include_colab_link": true
    },
    "kernelspec": {
      "name": "python3",
      "display_name": "Python 3"
    },
    "language_info": {
      "name": "python"
    }
  },
  "cells": [
    {
      "cell_type": "markdown",
      "metadata": {
        "id": "view-in-github",
        "colab_type": "text"
      },
      "source": [
        "<a href=\"https://colab.research.google.com/github/Donalizasaji/LAB/blob/main/2348515_RL_Lab_03.ipynb\" target=\"_parent\"><img src=\"https://colab.research.google.com/assets/colab-badge.svg\" alt=\"Open In Colab\"/></a>"
      ]
    },
    {
      "cell_type": "markdown",
      "source": [
        "**Markov Decision Process (MDP)** Class"
      ],
      "metadata": {
        "id": "TVTw3qfJPb2X"
      }
    },
    {
      "cell_type": "code",
      "execution_count": 1,
      "metadata": {
        "id": "xwJvWTDLORf8"
      },
      "outputs": [],
      "source": [
        "import numpy as np\n",
        "\n",
        "class MDP:\n",
        "    def __init__(self, states, actions, transition_probs, rewards, discount_factor):\n",
        "        self.states = states\n",
        "        self.actions = actions\n",
        "        self.transition_probs = transition_probs  # Transition probability matrix P(s'|s,a)\n",
        "        self.rewards = rewards                    # Reward matrix R(s,a)\n",
        "        self.discount_factor = discount_factor    # Discount factor (gamma)\n",
        "\n",
        "    def step(self, state, action):\n",
        "        \"\"\"Performs a state transition given a state and an action.\"\"\"\n",
        "        next_state = np.random.choice(self.states, p=self.transition_probs[state][action])\n",
        "        reward = self.rewards[state][action]\n",
        "        return next_state, reward\n",
        "\n",
        "    def simulate(self, start_state, policy, steps=100):\n",
        "        \"\"\"Simulates the MDP for a number of steps given a policy.\"\"\"\n",
        "        state = start_state\n",
        "        total_reward = 0\n",
        "        for step in range(steps):\n",
        "            action = policy[state]\n",
        "            next_state, reward = self.step(state, action)\n",
        "            total_reward += reward\n",
        "            print(f\"Step {step}: State = {state}, Action = {action}, Reward = {reward}, Next State = {next_state}\")\n",
        "            state = next_state\n",
        "        return total_reward\n"
      ]
    },
    {
      "cell_type": "markdown",
      "source": [
        "**Value Iteration Algorithm**"
      ],
      "metadata": {
        "id": "LHr5U-8hPmMV"
      }
    },
    {
      "cell_type": "code",
      "source": [
        "def value_iteration(mdp, threshold=1e-6):\n",
        "    \"\"\"Performs the value iteration algorithm.\"\"\"\n",
        "    V = np.zeros(len(mdp.states))  # Initialize value function to 0\n",
        "    policy = np.zeros(len(mdp.states), dtype=int)  # Initialize policy to 0\n",
        "\n",
        "    while True:\n",
        "        delta = 0\n",
        "        for state in mdp.states:\n",
        "            q_values = np.zeros(len(mdp.actions))\n",
        "            for action in mdp.actions:\n",
        "                q_values[action] = sum(\n",
        "                    [mdp.transition_probs[state][action][next_state] *\n",
        "                     (mdp.rewards[state][action] + mdp.discount_factor * V[next_state])\n",
        "                     for next_state in mdp.states]\n",
        "                )\n",
        "            best_action_value = np.max(q_values)\n",
        "            delta = max(delta, np.abs(best_action_value - V[state]))\n",
        "            V[state] = best_action_value\n",
        "            policy[state] = np.argmax(q_values)  # Update policy\n",
        "\n",
        "        # If the value function change is smaller than threshold, stop\n",
        "        if delta < threshold:\n",
        "            break\n",
        "\n",
        "    return V, policy\n"
      ],
      "metadata": {
        "id": "t8AVWt7fOyr2"
      },
      "execution_count": 2,
      "outputs": []
    },
    {
      "cell_type": "markdown",
      "source": [
        "**Example Usage**"
      ],
      "metadata": {
        "id": "xdWvZBVzPumz"
      }
    },
    {
      "cell_type": "code",
      "source": [
        "if __name__ == \"__main__\":\n",
        "    # Define MDP components: states, actions, transition probabilities, rewards, discount factor\n",
        "    states = [0, 1, 2]\n",
        "    actions = [0, 1]  # Action 0 or 1\n",
        "    transition_probs = {\n",
        "        0: {0: [0.7, 0.2, 0.1], 1: [0.1, 0.8, 0.1]},\n",
        "        1: {0: [0.4, 0.5, 0.1], 1: [0.2, 0.7, 0.1]},\n",
        "        2: {0: [0.1, 0.3, 0.6], 1: [0.05, 0.25, 0.7]}\n",
        "    }\n",
        "    rewards = {\n",
        "        0: {0: 5, 1: 10},\n",
        "        1: {0: -1, 1: 2},\n",
        "        2: {0: 0, 1: 3}\n",
        "    }\n",
        "    discount_factor = 0.9\n",
        "\n",
        "    # Initialize MDP and run value iteration\n",
        "    mdp = MDP(states, actions, transition_probs, rewards, discount_factor)\n",
        "    value_function, optimal_policy = value_iteration(mdp)\n",
        "\n",
        "    print(\"Optimal Value Function:\", value_function)\n",
        "    print(\"Optimal Policy:\", optimal_policy)\n",
        "\n",
        "    # Simulate the MDP starting from state 0 using the optimal policy\n",
        "    total_reward = mdp.simulate(0, optimal_policy, steps=10)\n",
        "    print(f\"Total reward after simulation: {total_reward}\")\n",
        "Markov Decision Process (MDP) Class"
      ],
      "metadata": {
        "colab": {
          "base_uri": "https://localhost:8080/"
        },
        "id": "mlaWyKgmPAHW",
        "outputId": "843a39e1-c8b8-4b66-96f7-a853965a1b34"
      },
      "execution_count": 3,
      "outputs": [
        {
          "output_type": "stream",
          "name": "stdout",
          "text": [
            "Optimal Value Function: [40.56840187 33.22895248 33.2488969 ]\n",
            "Optimal Policy: [1 1 1]\n",
            "Step 0: State = 0, Action = 1, Reward = 10, Next State = 1\n",
            "Step 1: State = 1, Action = 1, Reward = 2, Next State = 1\n",
            "Step 2: State = 1, Action = 1, Reward = 2, Next State = 1\n",
            "Step 3: State = 1, Action = 1, Reward = 2, Next State = 1\n",
            "Step 4: State = 1, Action = 1, Reward = 2, Next State = 0\n",
            "Step 5: State = 0, Action = 1, Reward = 10, Next State = 1\n",
            "Step 6: State = 1, Action = 1, Reward = 2, Next State = 1\n",
            "Step 7: State = 1, Action = 1, Reward = 2, Next State = 1\n",
            "Step 8: State = 1, Action = 1, Reward = 2, Next State = 2\n",
            "Step 9: State = 2, Action = 1, Reward = 3, Next State = 2\n",
            "Total reward after simulation: 37\n"
          ]
        }
      ]
    },
    {
      "cell_type": "markdown",
      "source": [
        "**MDP Class:**\n",
        "\n",
        "Defines the states, actions, transition probabilities, rewards, and discount factor.\n",
        "\n",
        "The step function takes a state and an action, performs a transition based on the given probabilities, and returns the next state and reward.\n",
        "\n",
        "The simulate function runs the MDP for a number of steps following a given policy.\n",
        "\n",
        "**Value Iteration Algorithm:**\n",
        "\n",
        "Iteratively updates the value function V by computing the expected value for each state-action pair.\n",
        "\n",
        "Once the value function converges (changes by less than a small threshold), it stops and returns the optimal value function and policy."
      ],
      "metadata": {
        "id": "jsnEEkyuQBnF"
      }
    }
  ]
}