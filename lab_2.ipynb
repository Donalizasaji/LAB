{
  "nbformat": 4,
  "nbformat_minor": 0,
  "metadata": {
    "colab": {
      "provenance": [],
      "mount_file_id": "1mhlC0gyqrVdW71KzUVuuG1ambNbSnoSg",
      "authorship_tag": "ABX9TyO4u3caDqssU64NJpJ2HQtP",
      "include_colab_link": true
    },
    "kernelspec": {
      "name": "python3",
      "display_name": "Python 3"
    },
    "language_info": {
      "name": "python"
    }
  },
  "cells": [
    {
      "cell_type": "markdown",
      "metadata": {
        "id": "view-in-github",
        "colab_type": "text"
      },
      "source": [
        "<a href=\"https://colab.research.google.com/github/Donalizasaji/LAB1ML/blob/main/lab_2.ipynb\" target=\"_parent\"><img src=\"https://colab.research.google.com/assets/colab-badge.svg\" alt=\"Open In Colab\"/></a>"
      ]
    },
    {
      "cell_type": "code",
      "execution_count": 10,
      "metadata": {
        "id": "b-U6ZQN2x7hy"
      },
      "outputs": [],
      "source": [
        "import pandas as pd\n",
        "import numpy as np\n",
        "import matplotlib.pyplot as plt\n",
        "import seaborn as sns\n",
        "import scipy.stats as stats\n",
        "from sklearn.preprocessing import LabelEncoder\n"
      ]
    },
    {
      "cell_type": "code",
      "source": [
        "df=pd.read_csv('/content/drive/MyDrive/customer_support_tickets.csv')"
      ],
      "metadata": {
        "id": "KHuuB6SVMEr_"
      },
      "execution_count": 11,
      "outputs": []
    },
    {
      "cell_type": "code",
      "source": [
        "df.head()"
      ],
      "metadata": {
        "colab": {
          "base_uri": "https://localhost:8080/",
          "height": 583
        },
        "id": "LZBLtmE0MEpA",
        "outputId": "2218c7c6-0f04-4570-e113-2b2a47b2e2ed"
      },
      "execution_count": 12,
      "outputs": [
        {
          "output_type": "execute_result",
          "data": {
            "text/plain": [
              "   Ticket ID        Customer Name              Customer Email  Customer Age  \\\n",
              "0          1        Marisa Obrien  carrollallison@example.com            32   \n",
              "1          2         Jessica Rios    clarkeashley@example.com            42   \n",
              "2          3  Christopher Robbins   gonzalestracy@example.com            48   \n",
              "3          4     Christina Dillon    bradleyolson@example.org            27   \n",
              "4          5    Alexander Carroll     bradleymark@example.com            67   \n",
              "\n",
              "  Customer Gender Product Purchased Date of Purchase      Ticket Type  \\\n",
              "0           Other        GoPro Hero       2021-03-22  Technical issue   \n",
              "1          Female       LG Smart TV       2021-05-22  Technical issue   \n",
              "2           Other          Dell XPS       2020-07-14  Technical issue   \n",
              "3          Female  Microsoft Office       2020-11-13  Billing inquiry   \n",
              "4          Female  Autodesk AutoCAD       2020-02-04  Billing inquiry   \n",
              "\n",
              "             Ticket Subject  \\\n",
              "0             Product setup   \n",
              "1  Peripheral compatibility   \n",
              "2           Network problem   \n",
              "3            Account access   \n",
              "4                 Data loss   \n",
              "\n",
              "                                  Ticket Description  \\\n",
              "0  I'm having an issue with the {product_purchase...   \n",
              "1  I'm having an issue with the {product_purchase...   \n",
              "2  I'm facing a problem with my {product_purchase...   \n",
              "3  I'm having an issue with the {product_purchase...   \n",
              "4  I'm having an issue with the {product_purchase...   \n",
              "\n",
              "               Ticket Status                                     Resolution  \\\n",
              "0  Pending Customer Response                                            NaN   \n",
              "1  Pending Customer Response                                            NaN   \n",
              "2                     Closed   Case maybe show recently my computer follow.   \n",
              "3                     Closed  Try capital clearly never color toward story.   \n",
              "4                     Closed                    West decision evidence bit.   \n",
              "\n",
              "  Ticket Priority Ticket Channel  First Response Time   Time to Resolution  \\\n",
              "0        Critical   Social media  2023-06-01 12:15:36                  NaN   \n",
              "1        Critical           Chat  2023-06-01 16:45:38                  NaN   \n",
              "2             Low   Social media  2023-06-01 11:14:38  2023-06-01 18:05:38   \n",
              "3             Low   Social media  2023-06-01 07:29:40  2023-06-01 01:57:40   \n",
              "4             Low          Email  2023-06-01 00:12:42  2023-06-01 19:53:42   \n",
              "\n",
              "   Customer Satisfaction Rating  \n",
              "0                           NaN  \n",
              "1                           NaN  \n",
              "2                           3.0  \n",
              "3                           3.0  \n",
              "4                           1.0  "
            ],
            "text/html": [
              "\n",
              "\n",
              "  <div id=\"df-5976d84b-bc2e-4c22-a11d-c523638fa7ff\">\n",
              "    <div class=\"colab-df-container\">\n",
              "      <div>\n",
              "<style scoped>\n",
              "    .dataframe tbody tr th:only-of-type {\n",
              "        vertical-align: middle;\n",
              "    }\n",
              "\n",
              "    .dataframe tbody tr th {\n",
              "        vertical-align: top;\n",
              "    }\n",
              "\n",
              "    .dataframe thead th {\n",
              "        text-align: right;\n",
              "    }\n",
              "</style>\n",
              "<table border=\"1\" class=\"dataframe\">\n",
              "  <thead>\n",
              "    <tr style=\"text-align: right;\">\n",
              "      <th></th>\n",
              "      <th>Ticket ID</th>\n",
              "      <th>Customer Name</th>\n",
              "      <th>Customer Email</th>\n",
              "      <th>Customer Age</th>\n",
              "      <th>Customer Gender</th>\n",
              "      <th>Product Purchased</th>\n",
              "      <th>Date of Purchase</th>\n",
              "      <th>Ticket Type</th>\n",
              "      <th>Ticket Subject</th>\n",
              "      <th>Ticket Description</th>\n",
              "      <th>Ticket Status</th>\n",
              "      <th>Resolution</th>\n",
              "      <th>Ticket Priority</th>\n",
              "      <th>Ticket Channel</th>\n",
              "      <th>First Response Time</th>\n",
              "      <th>Time to Resolution</th>\n",
              "      <th>Customer Satisfaction Rating</th>\n",
              "    </tr>\n",
              "  </thead>\n",
              "  <tbody>\n",
              "    <tr>\n",
              "      <th>0</th>\n",
              "      <td>1</td>\n",
              "      <td>Marisa Obrien</td>\n",
              "      <td>carrollallison@example.com</td>\n",
              "      <td>32</td>\n",
              "      <td>Other</td>\n",
              "      <td>GoPro Hero</td>\n",
              "      <td>2021-03-22</td>\n",
              "      <td>Technical issue</td>\n",
              "      <td>Product setup</td>\n",
              "      <td>I'm having an issue with the {product_purchase...</td>\n",
              "      <td>Pending Customer Response</td>\n",
              "      <td>NaN</td>\n",
              "      <td>Critical</td>\n",
              "      <td>Social media</td>\n",
              "      <td>2023-06-01 12:15:36</td>\n",
              "      <td>NaN</td>\n",
              "      <td>NaN</td>\n",
              "    </tr>\n",
              "    <tr>\n",
              "      <th>1</th>\n",
              "      <td>2</td>\n",
              "      <td>Jessica Rios</td>\n",
              "      <td>clarkeashley@example.com</td>\n",
              "      <td>42</td>\n",
              "      <td>Female</td>\n",
              "      <td>LG Smart TV</td>\n",
              "      <td>2021-05-22</td>\n",
              "      <td>Technical issue</td>\n",
              "      <td>Peripheral compatibility</td>\n",
              "      <td>I'm having an issue with the {product_purchase...</td>\n",
              "      <td>Pending Customer Response</td>\n",
              "      <td>NaN</td>\n",
              "      <td>Critical</td>\n",
              "      <td>Chat</td>\n",
              "      <td>2023-06-01 16:45:38</td>\n",
              "      <td>NaN</td>\n",
              "      <td>NaN</td>\n",
              "    </tr>\n",
              "    <tr>\n",
              "      <th>2</th>\n",
              "      <td>3</td>\n",
              "      <td>Christopher Robbins</td>\n",
              "      <td>gonzalestracy@example.com</td>\n",
              "      <td>48</td>\n",
              "      <td>Other</td>\n",
              "      <td>Dell XPS</td>\n",
              "      <td>2020-07-14</td>\n",
              "      <td>Technical issue</td>\n",
              "      <td>Network problem</td>\n",
              "      <td>I'm facing a problem with my {product_purchase...</td>\n",
              "      <td>Closed</td>\n",
              "      <td>Case maybe show recently my computer follow.</td>\n",
              "      <td>Low</td>\n",
              "      <td>Social media</td>\n",
              "      <td>2023-06-01 11:14:38</td>\n",
              "      <td>2023-06-01 18:05:38</td>\n",
              "      <td>3.0</td>\n",
              "    </tr>\n",
              "    <tr>\n",
              "      <th>3</th>\n",
              "      <td>4</td>\n",
              "      <td>Christina Dillon</td>\n",
              "      <td>bradleyolson@example.org</td>\n",
              "      <td>27</td>\n",
              "      <td>Female</td>\n",
              "      <td>Microsoft Office</td>\n",
              "      <td>2020-11-13</td>\n",
              "      <td>Billing inquiry</td>\n",
              "      <td>Account access</td>\n",
              "      <td>I'm having an issue with the {product_purchase...</td>\n",
              "      <td>Closed</td>\n",
              "      <td>Try capital clearly never color toward story.</td>\n",
              "      <td>Low</td>\n",
              "      <td>Social media</td>\n",
              "      <td>2023-06-01 07:29:40</td>\n",
              "      <td>2023-06-01 01:57:40</td>\n",
              "      <td>3.0</td>\n",
              "    </tr>\n",
              "    <tr>\n",
              "      <th>4</th>\n",
              "      <td>5</td>\n",
              "      <td>Alexander Carroll</td>\n",
              "      <td>bradleymark@example.com</td>\n",
              "      <td>67</td>\n",
              "      <td>Female</td>\n",
              "      <td>Autodesk AutoCAD</td>\n",
              "      <td>2020-02-04</td>\n",
              "      <td>Billing inquiry</td>\n",
              "      <td>Data loss</td>\n",
              "      <td>I'm having an issue with the {product_purchase...</td>\n",
              "      <td>Closed</td>\n",
              "      <td>West decision evidence bit.</td>\n",
              "      <td>Low</td>\n",
              "      <td>Email</td>\n",
              "      <td>2023-06-01 00:12:42</td>\n",
              "      <td>2023-06-01 19:53:42</td>\n",
              "      <td>1.0</td>\n",
              "    </tr>\n",
              "  </tbody>\n",
              "</table>\n",
              "</div>\n",
              "      <button class=\"colab-df-convert\" onclick=\"convertToInteractive('df-5976d84b-bc2e-4c22-a11d-c523638fa7ff')\"\n",
              "              title=\"Convert this dataframe to an interactive table.\"\n",
              "              style=\"display:none;\">\n",
              "\n",
              "  <svg xmlns=\"http://www.w3.org/2000/svg\" height=\"24px\"viewBox=\"0 0 24 24\"\n",
              "       width=\"24px\">\n",
              "    <path d=\"M0 0h24v24H0V0z\" fill=\"none\"/>\n",
              "    <path d=\"M18.56 5.44l.94 2.06.94-2.06 2.06-.94-2.06-.94-.94-2.06-.94 2.06-2.06.94zm-11 1L8.5 8.5l.94-2.06 2.06-.94-2.06-.94L8.5 2.5l-.94 2.06-2.06.94zm10 10l.94 2.06.94-2.06 2.06-.94-2.06-.94-.94-2.06-.94 2.06-2.06.94z\"/><path d=\"M17.41 7.96l-1.37-1.37c-.4-.4-.92-.59-1.43-.59-.52 0-1.04.2-1.43.59L10.3 9.45l-7.72 7.72c-.78.78-.78 2.05 0 2.83L4 21.41c.39.39.9.59 1.41.59.51 0 1.02-.2 1.41-.59l7.78-7.78 2.81-2.81c.8-.78.8-2.07 0-2.86zM5.41 20L4 18.59l7.72-7.72 1.47 1.35L5.41 20z\"/>\n",
              "  </svg>\n",
              "      </button>\n",
              "\n",
              "\n",
              "\n",
              "    <div id=\"df-71d41d1d-0375-406c-957f-bc9591b7ae7f\">\n",
              "      <button class=\"colab-df-quickchart\" onclick=\"quickchart('df-71d41d1d-0375-406c-957f-bc9591b7ae7f')\"\n",
              "              title=\"Suggest charts.\"\n",
              "              style=\"display:none;\">\n",
              "\n",
              "<svg xmlns=\"http://www.w3.org/2000/svg\" height=\"24px\"viewBox=\"0 0 24 24\"\n",
              "     width=\"24px\">\n",
              "    <g>\n",
              "        <path d=\"M19 3H5c-1.1 0-2 .9-2 2v14c0 1.1.9 2 2 2h14c1.1 0 2-.9 2-2V5c0-1.1-.9-2-2-2zM9 17H7v-7h2v7zm4 0h-2V7h2v10zm4 0h-2v-4h2v4z\"/>\n",
              "    </g>\n",
              "</svg>\n",
              "      </button>\n",
              "    </div>\n",
              "\n",
              "<style>\n",
              "  .colab-df-quickchart {\n",
              "    background-color: #E8F0FE;\n",
              "    border: none;\n",
              "    border-radius: 50%;\n",
              "    cursor: pointer;\n",
              "    display: none;\n",
              "    fill: #1967D2;\n",
              "    height: 32px;\n",
              "    padding: 0 0 0 0;\n",
              "    width: 32px;\n",
              "  }\n",
              "\n",
              "  .colab-df-quickchart:hover {\n",
              "    background-color: #E2EBFA;\n",
              "    box-shadow: 0px 1px 2px rgba(60, 64, 67, 0.3), 0px 1px 3px 1px rgba(60, 64, 67, 0.15);\n",
              "    fill: #174EA6;\n",
              "  }\n",
              "\n",
              "  [theme=dark] .colab-df-quickchart {\n",
              "    background-color: #3B4455;\n",
              "    fill: #D2E3FC;\n",
              "  }\n",
              "\n",
              "  [theme=dark] .colab-df-quickchart:hover {\n",
              "    background-color: #434B5C;\n",
              "    box-shadow: 0px 1px 3px 1px rgba(0, 0, 0, 0.15);\n",
              "    filter: drop-shadow(0px 1px 2px rgba(0, 0, 0, 0.3));\n",
              "    fill: #FFFFFF;\n",
              "  }\n",
              "</style>\n",
              "\n",
              "    <script>\n",
              "      async function quickchart(key) {\n",
              "        const containerElement = document.querySelector('#' + key);\n",
              "        const charts = await google.colab.kernel.invokeFunction(\n",
              "            'suggestCharts', [key], {});\n",
              "      }\n",
              "    </script>\n",
              "\n",
              "\n",
              "      <script>\n",
              "\n",
              "function displayQuickchartButton(domScope) {\n",
              "  let quickchartButtonEl =\n",
              "    domScope.querySelector('#df-71d41d1d-0375-406c-957f-bc9591b7ae7f button.colab-df-quickchart');\n",
              "  quickchartButtonEl.style.display =\n",
              "    google.colab.kernel.accessAllowed ? 'block' : 'none';\n",
              "}\n",
              "\n",
              "        displayQuickchartButton(document);\n",
              "      </script>\n",
              "      <style>\n",
              "    .colab-df-container {\n",
              "      display:flex;\n",
              "      flex-wrap:wrap;\n",
              "      gap: 12px;\n",
              "    }\n",
              "\n",
              "    .colab-df-convert {\n",
              "      background-color: #E8F0FE;\n",
              "      border: none;\n",
              "      border-radius: 50%;\n",
              "      cursor: pointer;\n",
              "      display: none;\n",
              "      fill: #1967D2;\n",
              "      height: 32px;\n",
              "      padding: 0 0 0 0;\n",
              "      width: 32px;\n",
              "    }\n",
              "\n",
              "    .colab-df-convert:hover {\n",
              "      background-color: #E2EBFA;\n",
              "      box-shadow: 0px 1px 2px rgba(60, 64, 67, 0.3), 0px 1px 3px 1px rgba(60, 64, 67, 0.15);\n",
              "      fill: #174EA6;\n",
              "    }\n",
              "\n",
              "    [theme=dark] .colab-df-convert {\n",
              "      background-color: #3B4455;\n",
              "      fill: #D2E3FC;\n",
              "    }\n",
              "\n",
              "    [theme=dark] .colab-df-convert:hover {\n",
              "      background-color: #434B5C;\n",
              "      box-shadow: 0px 1px 3px 1px rgba(0, 0, 0, 0.15);\n",
              "      filter: drop-shadow(0px 1px 2px rgba(0, 0, 0, 0.3));\n",
              "      fill: #FFFFFF;\n",
              "    }\n",
              "  </style>\n",
              "\n",
              "      <script>\n",
              "        const buttonEl =\n",
              "          document.querySelector('#df-5976d84b-bc2e-4c22-a11d-c523638fa7ff button.colab-df-convert');\n",
              "        buttonEl.style.display =\n",
              "          google.colab.kernel.accessAllowed ? 'block' : 'none';\n",
              "\n",
              "        async function convertToInteractive(key) {\n",
              "          const element = document.querySelector('#df-5976d84b-bc2e-4c22-a11d-c523638fa7ff');\n",
              "          const dataTable =\n",
              "            await google.colab.kernel.invokeFunction('convertToInteractive',\n",
              "                                                     [key], {});\n",
              "          if (!dataTable) return;\n",
              "\n",
              "          const docLinkHtml = 'Like what you see? Visit the ' +\n",
              "            '<a target=\"_blank\" href=https://colab.research.google.com/notebooks/data_table.ipynb>data table notebook</a>'\n",
              "            + ' to learn more about interactive tables.';\n",
              "          element.innerHTML = '';\n",
              "          dataTable['output_type'] = 'display_data';\n",
              "          await google.colab.output.renderOutput(dataTable, element);\n",
              "          const docLink = document.createElement('div');\n",
              "          docLink.innerHTML = docLinkHtml;\n",
              "          element.appendChild(docLink);\n",
              "        }\n",
              "      </script>\n",
              "    </div>\n",
              "  </div>\n"
            ]
          },
          "metadata": {},
          "execution_count": 12
        }
      ]
    },
    {
      "cell_type": "code",
      "source": [
        "df.shape"
      ],
      "metadata": {
        "colab": {
          "base_uri": "https://localhost:8080/"
        },
        "id": "IVel6-3vMEld",
        "outputId": "099b874b-d27f-4501-af65-9f99e4857bcc"
      },
      "execution_count": 13,
      "outputs": [
        {
          "output_type": "execute_result",
          "data": {
            "text/plain": [
              "(8469, 17)"
            ]
          },
          "metadata": {},
          "execution_count": 13
        }
      ]
    },
    {
      "cell_type": "markdown",
      "source": [
        "BINNING"
      ],
      "metadata": {
        "id": "jhQztASfLM4C"
      }
    },
    {
      "cell_type": "code",
      "source": [
        "bin_edges = [0, 18, 35, 45, 100]\n",
        "bin_labels = ['Teenager', 'Young Adult', 'Adult', 'Senior']\n",
        "df['Age Group'] = pd.cut(df['Customer Age'], bins=bin_edges, labels=bin_labels)\n"
      ],
      "metadata": {
        "id": "3ZKTCtEpMEi_"
      },
      "execution_count": 14,
      "outputs": []
    },
    {
      "cell_type": "code",
      "source": [
        "plt.figure(figsize=(8, 6))\n",
        "plt.boxplot(\n",
        "    [df[df['Age Group'] == label]['Customer Age'] for label in bin_labels],\n",
        "    labels=bin_labels\n",
        ")\n",
        "plt.title('Age Groups Boxplot')\n",
        "plt.xlabel('Age Group')\n",
        "plt.ylabel('Customer Age')\n",
        "plt.show()"
      ],
      "metadata": {
        "id": "EFQ_o1vFyGOz",
        "colab": {
          "base_uri": "https://localhost:8080/",
          "height": 564
        },
        "outputId": "5859ec49-266d-4a27-ef01-9b5a775d1b0b"
      },
      "execution_count": 15,
      "outputs": [
        {
          "output_type": "display_data",
          "data": {
            "text/plain": [
              "<Figure size 800x600 with 1 Axes>"
            ],
            "image/png": "[encoded data removed]"
          },
          "metadata": {}
        }
      ]
    },
    {
      "cell_type": "markdown",
      "source": [
        "DISTRIBUTION OF CUSTOMERS ACROSS THEIR AGE GROUPS"
      ],
      "metadata": {
        "id": "ta5rQZvbNqJ6"
      }
    },
    {
      "cell_type": "code",
      "source": [
        "plt.hist(df['Customer Age'], bins=10)\n",
        "plt.xlabel('Age Group')\n",
        "plt.ylabel('Number of Customers')\n",
        "plt.title('Distribution of Customers across Age Group')\n",
        "plt.show()"
      ],
      "metadata": {
        "colab": {
          "base_uri": "https://localhost:8080/",
          "height": 472
        },
        "id": "Ocn9iElsENMd",
        "outputId": "19b967d8-7354-4b61-9a9d-82173ef4ef10"
      },
      "execution_count": 16,
      "outputs": [
        {
          "output_type": "display_data",
          "data": {
            "text/plain": [
              "<Figure size 640x480 with 1 Axes>"
            ],
            "image/png": "[encoded data removed]"
          },
          "metadata": {}
        }
      ]
    },
    {
      "cell_type": "markdown",
      "source": [
        "CONVERTING CATEGORICAL DATA INTO NUMERICAL DATA"
      ],
      "metadata": {
        "id": "tuSDb1q4NzrU"
      }
    },
    {
      "cell_type": "code",
      "source": [
        "label_encoder = LabelEncoder()\n",
        "\n",
        "\n",
        "df['Customer Age Encoded'] = label_encoder.fit_transform(df['Customer Age'])\n",
        "df['Product Purchased Encoded'] = label_encoder.fit_transform(df['Product Purchased'])"
      ],
      "metadata": {
        "id": "fQ9o2gdhKH6k"
      },
      "execution_count": 22,
      "outputs": []
    },
    {
      "cell_type": "code",
      "source": [
        "df.head()"
      ],
      "metadata": {
        "colab": {
          "base_uri": "https://localhost:8080/",
          "height": 508
        },
        "id": "KqspmnqaLm4R",
        "outputId": "7274e479-56d5-4cb4-a13b-6dd1a3cab2d5"
      },
      "execution_count": 23,
      "outputs": [
        {
          "output_type": "execute_result",
          "data": {
            "text/plain": [
              "   Ticket ID        Customer Name              Customer Email  Customer Age  \\\n",
              "0          1        Marisa Obrien  carrollallison@example.com            32   \n",
              "1          2         Jessica Rios    clarkeashley@example.com            42   \n",
              "2          3  Christopher Robbins   gonzalestracy@example.com            48   \n",
              "3          4     Christina Dillon    bradleyolson@example.org            27   \n",
              "4          5    Alexander Carroll     bradleymark@example.com            67   \n",
              "\n",
              "  Customer Gender Product Purchased Date of Purchase      Ticket Type  \\\n",
              "0           Other        GoPro Hero       2021-03-22  Technical issue   \n",
              "1          Female       LG Smart TV       2021-05-22  Technical issue   \n",
              "2           Other          Dell XPS       2020-07-14  Technical issue   \n",
              "3          Female  Microsoft Office       2020-11-13  Billing inquiry   \n",
              "4          Female  Autodesk AutoCAD       2020-02-04  Billing inquiry   \n",
              "\n",
              "             Ticket Subject  \\\n",
              "0             Product setup   \n",
              "1  Peripheral compatibility   \n",
              "2           Network problem   \n",
              "3            Account access   \n",
              "4                 Data loss   \n",
              "\n",
              "                                  Ticket Description  ... Ticket Channel  \\\n",
              "0  I'm having an issue with the {product_purchase...  ...   Social media   \n",
              "1  I'm having an issue with the {product_purchase...  ...           Chat   \n",
              "2  I'm facing a problem with my {product_purchase...  ...   Social media   \n",
              "3  I'm having an issue with the {product_purchase...  ...   Social media   \n",
              "4  I'm having an issue with the {product_purchase...  ...          Email   \n",
              "\n",
              "   First Response Time   Time to Resolution Customer Satisfaction Rating  \\\n",
              "0  2023-06-01 12:15:36                  NaN                          NaN   \n",
              "1  2023-06-01 16:45:38                  NaN                          NaN   \n",
              "2  2023-06-01 11:14:38  2023-06-01 18:05:38                          3.0   \n",
              "3  2023-06-01 07:29:40  2023-06-01 01:57:40                          3.0   \n",
              "4  2023-06-01 00:12:42  2023-06-01 19:53:42                          1.0   \n",
              "\n",
              "     Age Group Age Group Encoded  Customer Age Encoded  \\\n",
              "0  Young Adult                 3                    14   \n",
              "1        Adult                 0                    24   \n",
              "2       Senior                 1                    30   \n",
              "3  Young Adult                 3                     9   \n",
              "4       Senior                 1                    49   \n",
              "\n",
              "  Product Purchased Encoded  Customer Age Numerical  \\\n",
              "0                        16                      14   \n",
              "1                        21                      24   \n",
              "2                        10                      30   \n",
              "3                        25                       9   \n",
              "4                         5                      49   \n",
              "\n",
              "   Product Purchased Numerical  \n",
              "0                           16  \n",
              "1                           21  \n",
              "2                           10  \n",
              "3                           25  \n",
              "4                            5  \n",
              "\n",
              "[5 rows x 23 columns]"
            ],
            "text/html": [
              "\n",
              "\n",
              "  <div id=\"df-751d3678-7110-4a8d-8360-08081f93cb9e\">\n",
              "    <div class=\"colab-df-container\">\n",
              "      <div>\n",
              "<style scoped>\n",
              "    .dataframe tbody tr th:only-of-type {\n",
              "        vertical-align: middle;\n",
              "    }\n",
              "\n",
              "    .dataframe tbody tr th {\n",
              "        vertical-align: top;\n",
              "    }\n",
              "\n",
              "    .dataframe thead th {\n",
              "        text-align: right;\n",
              "    }\n",
              "</style>\n",
              "<table border=\"1\" class=\"dataframe\">\n",
              "  <thead>\n",
              "    <tr style=\"text-align: right;\">\n",
              "      <th></th>\n",
              "      <th>Ticket ID</th>\n",
              "      <th>Customer Name</th>\n",
              "      <th>Customer Email</th>\n",
              "      <th>Customer Age</th>\n",
              "      <th>Customer Gender</th>\n",
              "      <th>Product Purchased</th>\n",
              "      <th>Date of Purchase</th>\n",
              "      <th>Ticket Type</th>\n",
              "      <th>Ticket Subject</th>\n",
              "      <th>Ticket Description</th>\n",
              "      <th>...</th>\n",
              "      <th>Ticket Channel</th>\n",
              "      <th>First Response Time</th>\n",
              "      <th>Time to Resolution</th>\n",
              "      <th>Customer Satisfaction Rating</th>\n",
              "      <th>Age Group</th>\n",
              "      <th>Age Group Encoded</th>\n",
              "      <th>Customer Age Encoded</th>\n",
              "      <th>Product Purchased Encoded</th>\n",
              "      <th>Customer Age Numerical</th>\n",
              "      <th>Product Purchased Numerical</th>\n",
              "    </tr>\n",
              "  </thead>\n",
              "  <tbody>\n",
              "    <tr>\n",
              "      <th>0</th>\n",
              "      <td>1</td>\n",
              "      <td>Marisa Obrien</td>\n",
              "      <td>carrollallison@example.com</td>\n",
              "      <td>32</td>\n",
              "      <td>Other</td>\n",
              "      <td>GoPro Hero</td>\n",
              "      <td>2021-03-22</td>\n",
              "      <td>Technical issue</td>\n",
              "      <td>Product setup</td>\n",
              "      <td>I'm having an issue with the {product_purchase...</td>\n",
              "      <td>...</td>\n",
              "      <td>Social media</td>\n",
              "      <td>2023-06-01 12:15:36</td>\n",
              "      <td>NaN</td>\n",
              "      <td>NaN</td>\n",
              "      <td>Young Adult</td>\n",
              "      <td>3</td>\n",
              "      <td>14</td>\n",
              "      <td>16</td>\n",
              "      <td>14</td>\n",
              "      <td>16</td>\n",
              "    </tr>\n",
              "    <tr>\n",
              "      <th>1</th>\n",
              "      <td>2</td>\n",
              "      <td>Jessica Rios</td>\n",
              "      <td>clarkeashley@example.com</td>\n",
              "      <td>42</td>\n",
              "      <td>Female</td>\n",
              "      <td>LG Smart TV</td>\n",
              "      <td>2021-05-22</td>\n",
              "      <td>Technical issue</td>\n",
              "      <td>Peripheral compatibility</td>\n",
              "      <td>I'm having an issue with the {product_purchase...</td>\n",
              "      <td>...</td>\n",
              "      <td>Chat</td>\n",
              "      <td>2023-06-01 16:45:38</td>\n",
              "      <td>NaN</td>\n",
              "      <td>NaN</td>\n",
              "      <td>Adult</td>\n",
              "      <td>0</td>\n",
              "      <td>24</td>\n",
              "      <td>21</td>\n",
              "      <td>24</td>\n",
              "      <td>21</td>\n",
              "    </tr>\n",
              "    <tr>\n",
              "      <th>2</th>\n",
              "      <td>3</td>\n",
              "      <td>Christopher Robbins</td>\n",
              "      <td>gonzalestracy@example.com</td>\n",
              "      <td>48</td>\n",
              "      <td>Other</td>\n",
              "      <td>Dell XPS</td>\n",
              "      <td>2020-07-14</td>\n",
              "      <td>Technical issue</td>\n",
              "      <td>Network problem</td>\n",
              "      <td>I'm facing a problem with my {product_purchase...</td>\n",
              "      <td>...</td>\n",
              "      <td>Social media</td>\n",
              "      <td>2023-06-01 11:14:38</td>\n",
              "      <td>2023-06-01 18:05:38</td>\n",
              "      <td>3.0</td>\n",
              "      <td>Senior</td>\n",
              "      <td>1</td>\n",
              "      <td>30</td>\n",
              "      <td>10</td>\n",
              "      <td>30</td>\n",
              "      <td>10</td>\n",
              "    </tr>\n",
              "    <tr>\n",
              "      <th>3</th>\n",
              "      <td>4</td>\n",
              "      <td>Christina Dillon</td>\n",
              "      <td>bradleyolson@example.org</td>\n",
              "      <td>27</td>\n",
              "      <td>Female</td>\n",
              "      <td>Microsoft Office</td>\n",
              "      <td>2020-11-13</td>\n",
              "      <td>Billing inquiry</td>\n",
              "      <td>Account access</td>\n",
              "      <td>I'm having an issue with the {product_purchase...</td>\n",
              "      <td>...</td>\n",
              "      <td>Social media</td>\n",
              "      <td>2023-06-01 07:29:40</td>\n",
              "      <td>2023-06-01 01:57:40</td>\n",
              "      <td>3.0</td>\n",
              "      <td>Young Adult</td>\n",
              "      <td>3</td>\n",
              "      <td>9</td>\n",
              "      <td>25</td>\n",
              "      <td>9</td>\n",
              "      <td>25</td>\n",
              "    </tr>\n",
              "    <tr>\n",
              "      <th>4</th>\n",
              "      <td>5</td>\n",
              "      <td>Alexander Carroll</td>\n",
              "      <td>bradleymark@example.com</td>\n",
              "      <td>67</td>\n",
              "      <td>Female</td>\n",
              "      <td>Autodesk AutoCAD</td>\n",
              "      <td>2020-02-04</td>\n",
              "      <td>Billing inquiry</td>\n",
              "      <td>Data loss</td>\n",
              "      <td>I'm having an issue with the {product_purchase...</td>\n",
              "      <td>...</td>\n",
              "      <td>Email</td>\n",
              "      <td>2023-06-01 00:12:42</td>\n",
              "      <td>2023-06-01 19:53:42</td>\n",
              "      <td>1.0</td>\n",
              "      <td>Senior</td>\n",
              "      <td>1</td>\n",
              "      <td>49</td>\n",
              "      <td>5</td>\n",
              "      <td>49</td>\n",
              "      <td>5</td>\n",
              "    </tr>\n",
              "  </tbody>\n",
              "</table>\n",
              "<p>5 rows × 23 columns</p>\n",
              "</div>\n",
              "      <button class=\"colab-df-convert\" onclick=\"convertToInteractive('df-751d3678-7110-4a8d-8360-08081f93cb9e')\"\n",
              "              title=\"Convert this dataframe to an interactive table.\"\n",
              "              style=\"display:none;\">\n",
              "\n",
              "  <svg xmlns=\"http://www.w3.org/2000/svg\" height=\"24px\"viewBox=\"0 0 24 24\"\n",
              "       width=\"24px\">\n",
              "    <path d=\"M0 0h24v24H0V0z\" fill=\"none\"/>\n",
              "    <path d=\"M18.56 5.44l.94 2.06.94-2.06 2.06-.94-2.06-.94-.94-2.06-.94 2.06-2.06.94zm-11 1L8.5 8.5l.94-2.06 2.06-.94-2.06-.94L8.5 2.5l-.94 2.06-2.06.94zm10 10l.94 2.06.94-2.06 2.06-.94-2.06-.94-.94-2.06-.94 2.06-2.06.94z\"/><path d=\"M17.41 7.96l-1.37-1.37c-.4-.4-.92-.59-1.43-.59-.52 0-1.04.2-1.43.59L10.3 9.45l-7.72 7.72c-.78.78-.78 2.05 0 2.83L4 21.41c.39.39.9.59 1.41.59.51 0 1.02-.2 1.41-.59l7.78-7.78 2.81-2.81c.8-.78.8-2.07 0-2.86zM5.41 20L4 18.59l7.72-7.72 1.47 1.35L5.41 20z\"/>\n",
              "  </svg>\n",
              "      </button>\n",
              "\n",
              "\n",
              "\n",
              "    <div id=\"df-b60d64df-232c-43d3-ae70-631e0b6ff191\">\n",
              "      <button class=\"colab-df-quickchart\" onclick=\"quickchart('df-b60d64df-232c-43d3-ae70-631e0b6ff191')\"\n",
              "              title=\"Suggest charts.\"\n",
              "              style=\"display:none;\">\n",
              "\n",
              "<svg xmlns=\"http://www.w3.org/2000/svg\" height=\"24px\"viewBox=\"0 0 24 24\"\n",
              "     width=\"24px\">\n",
              "    <g>\n",
              "        <path d=\"M19 3H5c-1.1 0-2 .9-2 2v14c0 1.1.9 2 2 2h14c1.1 0 2-.9 2-2V5c0-1.1-.9-2-2-2zM9 17H7v-7h2v7zm4 0h-2V7h2v10zm4 0h-2v-4h2v4z\"/>\n",
              "    </g>\n",
              "</svg>\n",
              "      </button>\n",
              "    </div>\n",
              "\n",
              "<style>\n",
              "  .colab-df-quickchart {\n",
              "    background-color: #E8F0FE;\n",
              "    border: none;\n",
              "    border-radius: 50%;\n",
              "    cursor: pointer;\n",
              "    display: none;\n",
              "    fill: #1967D2;\n",
              "    height: 32px;\n",
              "    padding: 0 0 0 0;\n",
              "    width: 32px;\n",
              "  }\n",
              "\n",
              "  .colab-df-quickchart:hover {\n",
              "    background-color: #E2EBFA;\n",
              "    box-shadow: 0px 1px 2px rgba(60, 64, 67, 0.3), 0px 1px 3px 1px rgba(60, 64, 67, 0.15);\n",
              "    fill: #174EA6;\n",
              "  }\n",
              "\n",
              "  [theme=dark] .colab-df-quickchart {\n",
              "    background-color: #3B4455;\n",
              "    fill: #D2E3FC;\n",
              "  }\n",
              "\n",
              "  [theme=dark] .colab-df-quickchart:hover {\n",
              "    background-color: #434B5C;\n",
              "    box-shadow: 0px 1px 3px 1px rgba(0, 0, 0, 0.15);\n",
              "    filter: drop-shadow(0px 1px 2px rgba(0, 0, 0, 0.3));\n",
              "    fill: #FFFFFF;\n",
              "  }\n",
              "</style>\n",
              "\n",
              "    <script>\n",
              "      async function quickchart(key) {\n",
              "        const containerElement = document.querySelector('#' + key);\n",
              "        const charts = await google.colab.kernel.invokeFunction(\n",
              "            'suggestCharts', [key], {});\n",
              "      }\n",
              "    </script>\n",
              "\n",
              "\n",
              "      <script>\n",
              "\n",
              "function displayQuickchartButton(domScope) {\n",
              "  let quickchartButtonEl =\n",
              "    domScope.querySelector('#df-b60d64df-232c-43d3-ae70-631e0b6ff191 button.colab-df-quickchart');\n",
              "  quickchartButtonEl.style.display =\n",
              "    google.colab.kernel.accessAllowed ? 'block' : 'none';\n",
              "}\n",
              "\n",
              "        displayQuickchartButton(document);\n",
              "      </script>\n",
              "      <style>\n",
              "    .colab-df-container {\n",
              "      display:flex;\n",
              "      flex-wrap:wrap;\n",
              "      gap: 12px;\n",
              "    }\n",
              "\n",
              "    .colab-df-convert {\n",
              "      background-color: #E8F0FE;\n",
              "      border: none;\n",
              "      border-radius: 50%;\n",
              "      cursor: pointer;\n",
              "      display: none;\n",
              "      fill: #1967D2;\n",
              "      height: 32px;\n",
              "      padding: 0 0 0 0;\n",
              "      width: 32px;\n",
              "    }\n",
              "\n",
              "    .colab-df-convert:hover {\n",
              "      background-color: #E2EBFA;\n",
              "      box-shadow: 0px 1px 2px rgba(60, 64, 67, 0.3), 0px 1px 3px 1px rgba(60, 64, 67, 0.15);\n",
              "      fill: #174EA6;\n",
              "    }\n",
              "\n",
              "    [theme=dark] .colab-df-convert {\n",
              "      background-color: #3B4455;\n",
              "      fill: #D2E3FC;\n",
              "    }\n",
              "\n",
              "    [theme=dark] .colab-df-convert:hover {\n",
              "      background-color: #434B5C;\n",
              "      box-shadow: 0px 1px 3px 1px rgba(0, 0, 0, 0.15);\n",
              "      filter: drop-shadow(0px 1px 2px rgba(0, 0, 0, 0.3));\n",
              "      fill: #FFFFFF;\n",
              "    }\n",
              "  </style>\n",
              "\n",
              "      <script>\n",
              "        const buttonEl =\n",
              "          document.querySelector('#df-751d3678-7110-4a8d-8360-08081f93cb9e button.colab-df-convert');\n",
              "        buttonEl.style.display =\n",
              "          google.colab.kernel.accessAllowed ? 'block' : 'none';\n",
              "\n",
              "        async function convertToInteractive(key) {\n",
              "          const element = document.querySelector('#df-751d3678-7110-4a8d-8360-08081f93cb9e');\n",
              "          const dataTable =\n",
              "            await google.colab.kernel.invokeFunction('convertToInteractive',\n",
              "                                                     [key], {});\n",
              "          if (!dataTable) return;\n",
              "\n",
              "          const docLinkHtml = 'Like what you see? Visit the ' +\n",
              "            '<a target=\"_blank\" href=https://colab.research.google.com/notebooks/data_table.ipynb>data table notebook</a>'\n",
              "            + ' to learn more about interactive tables.';\n",
              "          element.innerHTML = '';\n",
              "          dataTable['output_type'] = 'display_data';\n",
              "          await google.colab.output.renderOutput(dataTable, element);\n",
              "          const docLink = document.createElement('div');\n",
              "          docLink.innerHTML = docLinkHtml;\n",
              "          element.appendChild(docLink);\n",
              "        }\n",
              "      </script>\n",
              "    </div>\n",
              "  </div>\n"
            ]
          },
          "metadata": {},
          "execution_count": 23
        }
      ]
    },
    {
      "cell_type": "markdown",
      "source": [
        "ONE-HOT ENCODING"
      ],
      "metadata": {
        "id": "jkxsvj4pNWPy"
      }
    },
    {
      "cell_type": "code",
      "source": [
        "Customer_Age_dummies = pd.get_dummies(df['Customer Age'], prefix='Customer Age')\n",
        "Product_Purchased_dummies = pd.get_dummies(df['Product Purchased'], prefix='Product Purchased')\n",
        "\n",
        "\n",
        "encoded_df = pd.concat([Customer_Age_dummies, Product_Purchased_dummies], axis=1)\n",
        "\n",
        "print(encoded_df)"
      ],
      "metadata": {
        "colab": {
          "base_uri": "https://localhost:8080/"
        },
        "id": "wx4WABfPKH3B",
        "outputId": "a932b016-aaa7-405f-8ca4-03e5df17f130"
      },
      "execution_count": 24,
      "outputs": [
        {
          "output_type": "stream",
          "name": "stdout",
          "text": [
            "      Customer Age_18  Customer Age_19  Customer Age_20  Customer Age_21  \\\n",
            "0                   0                0                0                0   \n",
            "1                   0                0                0                0   \n",
            "2                   0                0                0                0   \n",
            "3                   0                0                0                0   \n",
            "4                   0                0                0                0   \n",
            "...               ...              ...              ...              ...   \n",
            "8464                0                0                0                0   \n",
            "8465                0                0                0                0   \n",
            "8466                0                0                0                0   \n",
            "8467                0                0                0                0   \n",
            "8468                0                0                0                0   \n",
            "\n",
            "      Customer Age_22  Customer Age_23  Customer Age_24  Customer Age_25  \\\n",
            "0                   0                0                0                0   \n",
            "1                   0                0                0                0   \n",
            "2                   0                0                0                0   \n",
            "3                   0                0                0                0   \n",
            "4                   0                0                0                0   \n",
            "...               ...              ...              ...              ...   \n",
            "8464                1                0                0                0   \n",
            "8465                0                0                0                0   \n",
            "8466                0                0                0                0   \n",
            "8467                0                0                0                0   \n",
            "8468                0                0                0                0   \n",
            "\n",
            "      Customer Age_26  Customer Age_27  ...  \\\n",
            "0                   0                0  ...   \n",
            "1                   0                0  ...   \n",
            "2                   0                0  ...   \n",
            "3                   0                1  ...   \n",
            "4                   0                0  ...   \n",
            "...               ...              ...  ...   \n",
            "8464                0                0  ...   \n",
            "8465                0                1  ...   \n",
            "8466                0                0  ...   \n",
            "8467                0                0  ...   \n",
            "8468                0                0  ...   \n",
            "\n",
            "      Product Purchased_Philips Hue Lights  Product Purchased_PlayStation  \\\n",
            "0                                        0                              0   \n",
            "1                                        0                              0   \n",
            "2                                        0                              0   \n",
            "3                                        0                              0   \n",
            "4                                        0                              0   \n",
            "...                                    ...                            ...   \n",
            "8464                                     0                              0   \n",
            "8465                                     0                              0   \n",
            "8466                                     0                              0   \n",
            "8467                                     0                              1   \n",
            "8468                                     1                              0   \n",
            "\n",
            "      Product Purchased_Roomba Robot Vacuum  Product Purchased_Samsung Galaxy  \\\n",
            "0                                         0                                 0   \n",
            "1                                         0                                 0   \n",
            "2                                         0                                 0   \n",
            "3                                         0                                 0   \n",
            "4                                         0                                 0   \n",
            "...                                     ...                               ...   \n",
            "8464                                      0                                 0   \n",
            "8465                                      0                                 0   \n",
            "8466                                      0                                 0   \n",
            "8467                                      0                                 0   \n",
            "8468                                      0                                 0   \n",
            "\n",
            "      Product Purchased_Samsung Soundbar  Product Purchased_Sony 4K HDR TV  \\\n",
            "0                                      0                                 0   \n",
            "1                                      0                                 0   \n",
            "2                                      0                                 0   \n",
            "3                                      0                                 0   \n",
            "4                                      0                                 0   \n",
            "...                                  ...                               ...   \n",
            "8464                                   0                                 0   \n",
            "8465                                   0                                 0   \n",
            "8466                                   0                                 0   \n",
            "8467                                   0                                 0   \n",
            "8468                                   0                                 0   \n",
            "\n",
            "      Product Purchased_Sony PlayStation  Product Purchased_Sony Xperia  \\\n",
            "0                                      0                              0   \n",
            "1                                      0                              0   \n",
            "2                                      0                              0   \n",
            "3                                      0                              0   \n",
            "4                                      0                              0   \n",
            "...                                  ...                            ...   \n",
            "8464                                   0                              0   \n",
            "8465                                   0                              0   \n",
            "8466                                   0                              0   \n",
            "8467                                   0                              0   \n",
            "8468                                   0                              0   \n",
            "\n",
            "      Product Purchased_Xbox  Product Purchased_iPhone  \n",
            "0                          0                         0  \n",
            "1                          0                         0  \n",
            "2                          0                         0  \n",
            "3                          0                         0  \n",
            "4                          0                         0  \n",
            "...                      ...                       ...  \n",
            "8464                       0                         0  \n",
            "8465                       0                         0  \n",
            "8466                       0                         0  \n",
            "8467                       0                         0  \n",
            "8468                       0                         0  \n",
            "\n",
            "[8469 rows x 95 columns]\n"
          ]
        }
      ]
    },
    {
      "cell_type": "markdown",
      "source": [
        "COVARIANCE MATRIX - RELATIONSHIP BETWEEN CUSTOMER AGE AND SATISFACTION RATING"
      ],
      "metadata": {
        "id": "bIpM1AR9Q5cO"
      }
    },
    {
      "cell_type": "code",
      "source": [
        "np.random.seed(42)\n",
        "n_samples = 100\n",
        "customer_age = np.random.randint(18, 70, size=n_samples)\n",
        "customer_satisfaction = np.random.randint(1, 6, size=n_samples)\n",
        "data = pd.DataFrame({'CustomerAge': customer_age, 'CustomerSatisfaction': customer_satisfaction})\n",
        "cov_matrix = np.cov(data['CustomerAge'], data['CustomerSatisfaction'])\n",
        "print(\"Covariance Matrix:\")\n",
        "print(cov_matrix)\n",
        "plt.scatter(data['CustomerAge'], data['CustomerSatisfaction'])\n",
        "plt.xlabel('Customer Age')\n",
        "plt.ylabel('Customer Satisfaction')\n",
        "plt.title('Customer Age vs Customer Satisfaction')\n",
        "plt.show()"
      ],
      "metadata": {
        "id": "o8EHx8lvyGMK",
        "colab": {
          "base_uri": "https://localhost:8080/",
          "height": 524
        },
        "outputId": "88e67ba5-c7f1-4f56-9095-d13df06baee7"
      },
      "execution_count": 26,
      "outputs": [
        {
          "output_type": "stream",
          "name": "stdout",
          "text": [
            "Covariance Matrix:\n",
            "[[222.1489899    1.60909091]\n",
            " [  1.60909091   2.10868687]]\n"
          ]
        },
        {
          "output_type": "display_data",
          "data": {
            "text/plain": [
              "<Figure size 640x480 with 1 Axes>"
            ],
            "image/png": "[encoded data removed]"
          },
          "metadata": {}
        }
      ]
    },
    {
      "cell_type": "code",
      "source": [
        "np.random.seed(42)\n",
        "n_samples = 100\n",
        "customer_age = np.random.randint(18, 70, size=n_samples)\n",
        "customer_satisfaction = np.random.randint(1, 6, size=n_samples)\n",
        "data = pd.DataFrame({'CustomerAge': customer_age, 'CustomerSatisfaction': customer_satisfaction})\n",
        "cov_matrix = np.cov(data['CustomerAge'], data['CustomerSatisfaction'])\n",
        "print(\"Covariance Matrix:\")\n",
        "print(cov_matrix)\n",
        "plt.figure(figsize=(8, 6))\n",
        "sns.heatmap(cov_matrix, annot=True, cmap='coolwarm', xticklabels=data.columns, yticklabels=data.columns)\n",
        "plt.title('Covariance Matrix Heatmap')\n",
        "plt.show()"
      ],
      "metadata": {
        "colab": {
          "base_uri": "https://localhost:8080/",
          "height": 597
        },
        "id": "j363amDJP3TH",
        "outputId": "6461fb1e-640e-47a5-951e-bbdfac5a33bf"
      },
      "execution_count": 29,
      "outputs": [
        {
          "output_type": "stream",
          "name": "stdout",
          "text": [
            "Covariance Matrix:\n",
            "[[222.1489899    1.60909091]\n",
            " [  1.60909091   2.10868687]]\n"
          ]
        },
        {
          "output_type": "display_data",
          "data": {
            "text/plain": [
              "<Figure size 800x600 with 2 Axes>"
            ],
            "image/png": "[encoded data removed]"
          },
          "metadata": {}
        }
      ]
    },
    {
      "cell_type": "markdown",
      "source": [
        "CHI-SQUARE TEST TO FIND THE ASSOCIATION BETWEEN CUSTOMER GENDER AND PRODUCT PURCHASED"
      ],
      "metadata": {
        "id": "UTY25S7YVFpm"
      }
    },
    {
      "cell_type": "code",
      "source": [
        "from scipy.stats import chi2_contingency\n",
        "np.random.seed(42)\n",
        "n_samples = 200\n",
        "customer_gender = np.random.choice(['Male', 'Female'], size=n_samples)\n",
        "product_purchased= np.random.choice(['Yes', 'No'], size=n_samples)\n",
        "data = pd.DataFrame({'CustomerGender': customer_gender, 'ProductPurchased': product_purchased})\n",
        "contingency_table = pd.crosstab(data['CustomerGender'], data['ProductPurchased'])\n",
        "chi2, p, dof, expected = chi2_contingency(contingency_table)\n",
        "print(\"Chi-Squared:\", chi2)\n",
        "print(\"p-value:\", p)\n",
        "print(\"Degrees of Freedom:\", dof)\n",
        "print(\"Expected Frequencies:\")\n",
        "print(expected)\n",
        "\n",
        "if p < 0.05:\n",
        "    print(\"There is a significant association between Customer Gender and Product Purchased.\")\n",
        "else:\n",
        "    print(\"There is no significant association between Customer Gender and Product Purchased.\")"
      ],
      "metadata": {
        "colab": {
          "base_uri": "https://localhost:8080/"
        },
        "id": "fwNbgEazRmmY",
        "outputId": "e8d08d97-d00d-42df-bacf-4abfa756fd0a"
      },
      "execution_count": 42,
      "outputs": [
        {
          "output_type": "stream",
          "name": "stdout",
          "text": [
            "Chi-Squared: 0.08000800080008001\n",
            "p-value: 0.7772865686501679\n",
            "Degrees of Freedom: 1\n",
            "Expected Frequencies:\n",
            "[[50.5 49.5]\n",
            " [50.5 49.5]]\n",
            "There is no significant association between Customer Gender and Product Purchased.\n"
          ]
        }
      ]
    },
    {
      "cell_type": "code",
      "source": [
        "\n",
        "np.random.seed(42)\n",
        "n_samples = 200\n",
        "customer_gender = np.random.choice(['Male', 'Female'], size=n_samples)\n",
        "product_purchased = np.random.choice(['Yes', 'No'], size=n_samples)\n",
        "data = pd.DataFrame({'CustomerGender': customer_gender, 'ProductPurchased': product_purchased})\n",
        "contingency_table = pd.crosstab(data['CustomerGender'], data['ProductPurchased'])\n",
        "colors = ['skyblue', 'lightcoral']\n",
        "contingency_table.plot(kind='bar', stacked=True, color=colors)\n",
        "plt.title('Association between Customer Gender and Product Purchased')\n",
        "plt.xlabel('Customer Gender')\n",
        "plt.ylabel('Product Purchased')\n",
        "plt.xticks(rotation=0)\n",
        "plt.legend(title='Product Purchased')\n",
        "plt.show()\n"
      ],
      "metadata": {
        "colab": {
          "base_uri": "https://localhost:8080/",
          "height": 472
        },
        "id": "5k7hvUrsebcS",
        "outputId": "50f5221e-d06b-46bc-feda-f1081c5599b1"
      },
      "execution_count": 45,
      "outputs": [
        {
          "output_type": "display_data",
          "data": {
            "text/plain": [
              "<Figure size 640x480 with 1 Axes>"
            ],
            "image/png": "[encoded data removed]"
          },
          "metadata": {}
        }
      ]
    },
    {
      "cell_type": "markdown",
      "source": [
        "COMPARE THE CUSTOMER SATISFACTION RATINGS WITH WHO PURCHASED AND WHO DID'NT"
      ],
      "metadata": {
        "id": "l0SDvesVd-lg"
      }
    },
    {
      "cell_type": "code",
      "source": [
        "\n",
        "np.random.seed(42)\n",
        "n_samples = 200\n",
        "customer_satisfaction_purchased = np.random.randint(1, 6, size=n_samples)\n",
        "customer_satisfaction_not_purchased = np.random.randint(1, 6, size=n_samples)\n",
        "data = pd.DataFrame({\n",
        "    'Satisfaction_Purchased': customer_satisfaction_purchased,\n",
        "    'Satisfaction_Not_Purchased': customer_satisfaction_not_purchased\n",
        "})\n",
        "\n",
        "# Create box plots\n",
        "plt.figure(figsize=(8, 6))\n",
        "data.boxplot(column=['Satisfaction_Purchased', 'Satisfaction_Not_Purchased'])\n",
        "plt.title('Comparison of Customer Satisfaction Ratings')\n",
        "plt.ylabel('Customer Satisfaction Rating')\n",
        "plt.xticks([1, 2], ['Purchased', 'Not Purchased'])\n",
        "plt.show()"
      ],
      "metadata": {
        "id": "vdAWTSuBL0Bo",
        "colab": {
          "base_uri": "https://localhost:8080/",
          "height": 545
        },
        "outputId": "17fb005a-3c9e-4db6-f484-7c52277cf50c"
      },
      "execution_count": 52,
      "outputs": [
        {
          "output_type": "display_data",
          "data": {
            "text/plain": [
              "<Figure size 800x600 with 1 Axes>"
            ],
            "image/png": "[encoded data removed]"
          },
          "metadata": {}
        }
      ]
    },
    {
      "cell_type": "markdown",
      "source": [
        "INDEPENDENT T-TEST"
      ],
      "metadata": {
        "id": "qH9yM_xncp9I"
      }
    },
    {
      "cell_type": "code",
      "source": [
        "from scipy.stats import ttest_ind\n",
        "_t_stat, p_value = ttest_ind(data['Satisfaction_Purchased'], data['Satisfaction_Not_Purchased'])\n",
        "\n",
        "# Create box plots\n",
        "plt.figure(figsize=(8, 6))\n",
        "data.boxplot(column=['Satisfaction_Purchased', 'Satisfaction_Not_Purchased'])\n",
        "plt.title('Comparison of Customer Satisfaction Ratings')\n",
        "plt.ylabel('Customer Satisfaction Rating')\n",
        "plt.xticks([1, 2], ['Purchased', 'Not Purchased'])\n",
        "\n",
        "# Display t-test results\n",
        "if p_value < 0.05:\n",
        "    plt.suptitle(f\"t-test: p-value = {p_value:.4f} (Significant Difference)\")\n",
        "else:\n",
        "    plt.suptitle(f\"t-test: p-value = {p_value:.4f} (No Significant Difference)\")\n",
        "\n",
        "plt.show()"
      ],
      "metadata": {
        "colab": {
          "base_uri": "https://localhost:8080/",
          "height": 582
        },
        "id": "rHpjdi7W4zTB",
        "outputId": "8833f204-5629-4f82-b19d-9128b7df41d6"
      },
      "execution_count": 53,
      "outputs": [
        {
          "output_type": "display_data",
          "data": {
            "text/plain": [
              "<Figure size 800x600 with 1 Axes>"
            ],
            "image/png": "[encoded data removed]"
          },
          "metadata": {}
        }
      ]
    },
    {
      "cell_type": "code",
      "source": [],
      "metadata": {
        "id": "y-7xizdD4zQB"
      },
      "execution_count": null,
      "outputs": []
    },
    {
      "cell_type": "code",
      "source": [],
      "metadata": {
        "id": "6ADuJRQ-4zH-"
      },
      "execution_count": null,
      "outputs": []
    },
    {
      "cell_type": "code",
      "source": [],
      "metadata": {
        "id": "EF3Rx9rv4zFF"
      },
      "execution_count": null,
      "outputs": []
    }
  ]
}