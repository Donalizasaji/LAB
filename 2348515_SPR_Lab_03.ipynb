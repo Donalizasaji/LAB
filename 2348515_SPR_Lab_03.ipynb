{
  "nbformat": 4,
  "nbformat_minor": 0,
  "metadata": {
    "colab": {
      "provenance": [],
      "authorship_tag": "ABX9TyPyJtjSULwjBcYBMAxOL0ke",
      "include_colab_link": true
    },
    "kernelspec": {
      "name": "python3",
      "display_name": "Python 3"
    },
    "language_info": {
      "name": "python"
    }
  },
  "cells": [
    {
      "cell_type": "markdown",
      "metadata": {
        "id": "view-in-github",
        "colab_type": "text"
      },
      "source": [
        "<a href=\"https://colab.research.google.com/github/Donalizasaji/LAB/blob/main/2348515_SPR_Lab_03.ipynb\" target=\"_parent\"><img src=\"https://colab.research.google.com/assets/colab-badge.svg\" alt=\"Open In Colab\"/></a>"
      ]
    },
    {
      "cell_type": "markdown",
      "source": [
        "\n",
        "Speech-to-text conversion"
      ],
      "metadata": {
        "id": "2jBS9M3s4PA_"
      }
    },
    {
      "cell_type": "code",
      "execution_count": 1,
      "metadata": {
        "id": "O9bDeWwiyG03",
        "outputId": "fbc2e916-2a38-4fd5-f87e-84a8c02e4a12",
        "colab": {
          "base_uri": "https://localhost:8080/"
        }
      },
      "outputs": [
        {
          "output_type": "stream",
          "name": "stdout",
          "text": [
            "Collecting SpeechRecognition\n",
            "  Downloading SpeechRecognition-3.10.4-py2.py3-none-any.whl.metadata (28 kB)\n",
            "Collecting pydub\n",
            "  Downloading pydub-0.25.1-py2.py3-none-any.whl.metadata (1.4 kB)\n",
            "Requirement already satisfied: requests>=2.26.0 in /usr/local/lib/python3.10/dist-packages (from SpeechRecognition) (2.32.3)\n",
            "Requirement already satisfied: typing-extensions in /usr/local/lib/python3.10/dist-packages (from SpeechRecognition) (4.12.2)\n",
            "Requirement already satisfied: charset-normalizer<4,>=2 in /usr/local/lib/python3.10/dist-packages (from requests>=2.26.0->SpeechRecognition) (3.4.0)\n",
            "Requirement already satisfied: idna<4,>=2.5 in /usr/local/lib/python3.10/dist-packages (from requests>=2.26.0->SpeechRecognition) (3.10)\n",
            "Requirement already satisfied: urllib3<3,>=1.21.1 in /usr/local/lib/python3.10/dist-packages (from requests>=2.26.0->SpeechRecognition) (2.2.3)\n",
            "Requirement already satisfied: certifi>=2017.4.17 in /usr/local/lib/python3.10/dist-packages (from requests>=2.26.0->SpeechRecognition) (2024.8.30)\n",
            "Downloading SpeechRecognition-3.10.4-py2.py3-none-any.whl (32.8 MB)\n",
            "\u001b[2K   \u001b[90m━━━━━━━━━━━━━━━━━━━━━━━━━━━━━━━━━━━━━━━━\u001b[0m \u001b[32m32.8/32.8 MB\u001b[0m \u001b[31m17.3 MB/s\u001b[0m eta \u001b[36m0:00:00\u001b[0m\n",
            "\u001b[?25hDownloading pydub-0.25.1-py2.py3-none-any.whl (32 kB)\n",
            "Installing collected packages: pydub, SpeechRecognition\n",
            "Successfully installed SpeechRecognition-3.10.4 pydub-0.25.1\n"
          ]
        }
      ],
      "source": [
        "pip install SpeechRecognition pydub"
      ]
    },
    {
      "cell_type": "code",
      "source": [
        "import speech_recognition as sr\n",
        "\n",
        "# Path to your .wav file\n",
        "wav_file = \"/content/test01_20s.wav\"\n",
        "\n",
        "def transcribe_wav_file(wav_file):\n",
        "    # Initialize the recognizer\n",
        "    recognizer = sr.Recognizer()\n",
        "\n",
        "    try:\n",
        "        print(\"Loading audio file...\")\n",
        "        with sr.AudioFile(wav_file) as source:\n",
        "            # Provide feedback to the user\n",
        "            print(\"Adjusting for ambient noise...\")\n",
        "            recognizer.adjust_for_ambient_noise(source, duration=1)\n",
        "            print(\"Listening to the audio file...\")\n",
        "            audio_data = recognizer.record(source)  # Read the entire audio file\n",
        "\n",
        "        print(\"Converting speech to text...\")\n",
        "        # Recognize speech using Google Web Speech API\n",
        "        text = recognizer.recognize_google(audio_data)\n",
        "        print(\"\\nTranscription:\")\n",
        "        print(text)\n",
        "        print(\"\\nSpeech successfully converted to text!\")\n",
        "\n",
        "    except sr.UnknownValueError:\n",
        "        print(\"\\nError: Speech Recognition could not understand the audio.\")\n",
        "        print(\"Please ensure the audio is clear and try again.\")\n",
        "    except sr.RequestError as e:\n",
        "        print(f\"\\nError: Could not request results from Google Speech Recognition service; {e}\")\n",
        "        print(\"Please check your internet connection and try again.\")\n",
        "    except FileNotFoundError:\n",
        "        print(f\"\\nError: The file {wav_file} does not exist. Please check the path and try again.\")\n",
        "    except Exception as e:\n",
        "        print(f\"\\nAn unexpected error occurred: {e}\")\n",
        "        print(\"Please try again or check the audio file format.\")\n",
        "\n",
        "if __name__ == \"__main__\":\n",
        "    # Use the predefined wav_file variable\n",
        "    transcribe_wav_file(wav_file)"
      ],
      "metadata": {
        "id": "2AaB49Yg4Vue",
        "outputId": "d9060cc6-6083-42b3-e58b-d83365d7aa09",
        "colab": {
          "base_uri": "https://localhost:8080/"
        }
      },
      "execution_count": 2,
      "outputs": [
        {
          "output_type": "stream",
          "name": "stdout",
          "text": [
            "Loading audio file...\n",
            "Adjusting for ambient noise...\n",
            "Listening to the audio file...\n",
            "Converting speech to text...\n",
            "\n",
            "Transcription:\n",
            "dancing in the Masquerade Idol truth and plain sight jaded Pop Roll Clique shot who will I be today or not too full for sound and phone when that which Drew from out the boundless deep turns again home Twilight and evening Bell and after that\n",
            "\n",
            "Speech successfully converted to text!\n"
          ]
        }
      ]
    },
    {
      "cell_type": "markdown",
      "source": [
        "**INFERENCE**"
      ],
      "metadata": {
        "id": "Vc3fqdEXTUs0"
      }
    },
    {
      "cell_type": "markdown",
      "source": [
        "**Speech-to-text conversion**"
      ],
      "metadata": {
        "id": "ZqkLZUrWRvjg"
      }
    },
    {
      "cell_type": "markdown",
      "source": [
        "speech-to-text conversion program utilizes the SpeechRecognition library to accurately transcribe spoken language from a .wav audio file into written text. The program's design is both practical and efficient, relying on a structured approach that ensures accurate transcription while also handling potential errors effectively. Here's a more detailed inference of its key features and functionalities:\n",
        "\n",
        "**1. Audio Processing:**\n",
        "Initialization of Recognizer: The program begins by initializing a speech recognizer object, which is responsible for interpreting audio data.\n",
        "Ambient Noise Adjustment: One of the notable strengths of the program is its ability to adjust for ambient noise during audio processing. This helps the recognizer distinguish between the speech signal and background noise, significantly improving recognition accuracy. This feature is especially useful in environments with varying noise levels, ensuring more accurate transcription under non-ideal conditions.\n",
        "\n",
        "\n",
        "**2. Speech Recognition:**\n",
        "Google Web Speech API: The program leverages the widely used Google Web Speech API to convert audio input into text. The API uses advanced machine learning algorithms to understand and transcribe natural spoken language. By using this service, the program can handle various accents, languages, and speaking speeds.\n",
        "Seamless Transcription: Whether it’s a short command or a lengthy dialogue, the program transcribes the spoken content with high precision. This makes it adaptable to different use cases, such as converting lectures, interviews, or voice commands into text format.\n",
        "\n",
        "\n",
        "***3. Error Handling:***\n",
        "Robust Exception Management: The program incorporates multiple layers of error handling to address issues that might arise during the speech-to-text conversion. This includes:\n",
        "Unclear Speech: If the spoken input is garbled or indistinct, the program provides feedback to the user, indicating that the speech could not be understood.\n",
        "Connectivity Issues: Since the Google Web Speech API requires internet access, the program handles connectivity problems gracefully, notifying users if the service is temporarily unavailable.\n",
        "Unexpected Errors: In case of other unforeseen issues (e.g., file format problems, audio length issues), the program delivers informative error messages, allowing users to understand the problem without crashing the application.\n",
        "\n",
        "\n",
        "**4. User Interaction:**\n",
        "Real-Time Feedback: A standout feature of the program is its ability to provide real-time feedback during the recognition process. For instance, it might inform the user when it's processing the audio or waiting for input. This interactivity enhances the user experience, making the application more engaging and responsive.\n",
        "User-Friendly Experience: The combination of real-time feedback and clear error messages ensures that users remain informed about the state of the transcription process, even if something goes wrong. This contributes to a more intuitive and enjoyable user interface.\n"
      ],
      "metadata": {
        "id": "wA0AXZSxRrtT"
      }
    }
  ]
}