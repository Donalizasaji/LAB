{
  "nbformat": 4,
  "nbformat_minor": 0,
  "metadata": {
    "colab": {
      "provenance": [],
      "authorship_tag": "ABX9TyMIjPnicGR0HzVwD4DD2A+6",
      "include_colab_link": true
    },
    "kernelspec": {
      "name": "python3",
      "display_name": "Python 3"
    },
    "language_info": {
      "name": "python"
    }
  },
  "cells": [
    {
      "cell_type": "markdown",
      "metadata": {
        "id": "view-in-github",
        "colab_type": "text"
      },
      "source": [
        "<a href=\"https://colab.research.google.com/github/Donalizasaji/LAB/blob/main/2348515_QC_Lab_03.ipynb\" target=\"_parent\"><img src=\"https://colab.research.google.com/assets/colab-badge.svg\" alt=\"Open In Colab\"/></a>"
      ]
    },
    {
      "cell_type": "code",
      "execution_count": null,
      "metadata": {
        "id": "C5nWrwzKCvmq"
      },
      "outputs": [],
      "source": []
    },
    {
      "cell_type": "code",
      "execution_count": null,
      "metadata": {
        "colab": {
          "base_uri": "https://localhost:8080/"
        },
        "id": "eb844GkvMiaR",
        "outputId": "af4cd420-8d34-44a5-bb3e-60db470bfa89"
      },
      "outputs": [
        {
          "output_type": "stream",
          "name": "stdout",
          "text": [
            "Collecting qiskit\n",
            "  Downloading qiskit-1.2.4-cp38-abi3-manylinux_2_17_x86_64.manylinux2014_x86_64.whl.metadata (12 kB)\n",
            "Collecting rustworkx>=0.15.0 (from qiskit)\n",
            "  Downloading rustworkx-0.15.1-cp38-abi3-manylinux_2_17_x86_64.manylinux2014_x86_64.whl.metadata (9.9 kB)\n",
            "Requirement already satisfied: numpy<3,>=1.17 in /usr/local/lib/python3.10/dist-packages (from qiskit) (1.26.4)\n",
            "Requirement already satisfied: scipy>=1.5 in /usr/local/lib/python3.10/dist-packages (from qiskit) (1.13.1)\n",
            "Requirement already satisfied: sympy>=1.3 in /usr/local/lib/python3.10/dist-packages (from qiskit) (1.13.3)\n",
            "Collecting dill>=0.3 (from qiskit)\n",
            "  Downloading dill-0.3.9-py3-none-any.whl.metadata (10 kB)\n",
            "Requirement already satisfied: python-dateutil>=2.8.0 in /usr/local/lib/python3.10/dist-packages (from qiskit) (2.8.2)\n",
            "Collecting stevedore>=3.0.0 (from qiskit)\n",
            "  Downloading stevedore-5.3.0-py3-none-any.whl.metadata (2.3 kB)\n",
            "Requirement already satisfied: typing-extensions in /usr/local/lib/python3.10/dist-packages (from qiskit) (4.12.2)\n",
            "Collecting symengine<0.14,>=0.11 (from qiskit)\n",
            "  Downloading symengine-0.13.0-cp310-cp310-manylinux_2_17_x86_64.manylinux2014_x86_64.whl.metadata (1.2 kB)\n",
            "Requirement already satisfied: six>=1.5 in /usr/local/lib/python3.10/dist-packages (from python-dateutil>=2.8.0->qiskit) (1.16.0)\n",
            "Collecting pbr>=2.0.0 (from stevedore>=3.0.0->qiskit)\n",
            "  Downloading pbr-6.1.0-py2.py3-none-any.whl.metadata (3.4 kB)\n",
            "Requirement already satisfied: mpmath<1.4,>=1.1.0 in /usr/local/lib/python3.10/dist-packages (from sympy>=1.3->qiskit) (1.3.0)\n",
            "Downloading qiskit-1.2.4-cp38-abi3-manylinux_2_17_x86_64.manylinux2014_x86_64.whl (4.8 MB)\n",
            "\u001b[2K   \u001b[90m━━━━━━━━━━━━━━━━━━━━━━━━━━━━━━━━━━━━━━━━\u001b[0m \u001b[32m4.8/4.8 MB\u001b[0m \u001b[31m24.5 MB/s\u001b[0m eta \u001b[36m0:00:00\u001b[0m\n",
            "\u001b[?25hDownloading dill-0.3.9-py3-none-any.whl (119 kB)\n",
            "\u001b[2K   \u001b[90m━━━━━━━━━━━━━━━━━━━━━━━━━━━━━━━━━━━━━━━━\u001b[0m \u001b[32m119.4/119.4 kB\u001b[0m \u001b[31m3.9 MB/s\u001b[0m eta \u001b[36m0:00:00\u001b[0m\n",
            "\u001b[?25hDownloading rustworkx-0.15.1-cp38-abi3-manylinux_2_17_x86_64.manylinux2014_x86_64.whl (2.0 MB)\n",
            "\u001b[2K   \u001b[90m━━━━━━━━━━━━━━━━━━━━━━━━━━━━━━━━━━━━━━━━\u001b[0m \u001b[32m2.0/2.0 MB\u001b[0m \u001b[31m40.2 MB/s\u001b[0m eta \u001b[36m0:00:00\u001b[0m\n",
            "\u001b[?25hDownloading stevedore-5.3.0-py3-none-any.whl (49 kB)\n",
            "\u001b[2K   \u001b[90m━━━━━━━━━━━━━━━━━━━━━━━━━━━━━━━━━━━━━━━━\u001b[0m \u001b[32m49.7/49.7 kB\u001b[0m \u001b[31m2.4 MB/s\u001b[0m eta \u001b[36m0:00:00\u001b[0m\n",
            "\u001b[?25hDownloading symengine-0.13.0-cp310-cp310-manylinux_2_17_x86_64.manylinux2014_x86_64.whl (49.7 MB)\n",
            "\u001b[2K   \u001b[90m━━━━━━━━━━━━━━━━━━━━━━━━━━━━━━━━━━━━━━━━\u001b[0m \u001b[32m49.7/49.7 MB\u001b[0m \u001b[31m10.0 MB/s\u001b[0m eta \u001b[36m0:00:00\u001b[0m\n",
            "\u001b[?25hDownloading pbr-6.1.0-py2.py3-none-any.whl (108 kB)\n",
            "\u001b[2K   \u001b[90m━━━━━━━━━━━━━━━━━━━━━━━━━━━━━━━━━━━━━━━━\u001b[0m \u001b[32m108.5/108.5 kB\u001b[0m \u001b[31m3.6 MB/s\u001b[0m eta \u001b[36m0:00:00\u001b[0m\n",
            "\u001b[?25hInstalling collected packages: symengine, rustworkx, pbr, dill, stevedore, qiskit\n",
            "Successfully installed dill-0.3.9 pbr-6.1.0 qiskit-1.2.4 rustworkx-0.15.1 stevedore-5.3.0 symengine-0.13.0\n"
          ]
        }
      ],
      "source": [
        "pip install qiskit\n"
      ]
    },
    {
      "cell_type": "code",
      "source": [
        "import numpy as np\n",
        "from qiskit.quantum_info import Statevector, Operator"
      ],
      "metadata": {
        "id": "e_Ap0nVb3ebj"
      },
      "execution_count": null,
      "outputs": []
    },
    {
      "cell_type": "code",
      "source": [
        "\n",
        "\n",
        "# 1. Tensor Product of Two Vectors\n",
        "\n",
        "def tensor_product(vec1, vec2):\n",
        "    return np.kron(vec1, vec2)\n",
        "\n",
        "# Example vectors\n",
        "psi = np.array([1, 0])  # |0⟩\n",
        "phi = np.array([1/np.sqrt(2), 1/np.sqrt(2)])  # |+⟩\n",
        "\n",
        "# Calculate the tensor product\n",
        "result = tensor_product(psi, phi)\n",
        "print(\"Tensor Product |ψ⟩ ⊗ |ϕ⟩:\")\n",
        "print(result)\n"
      ],
      "metadata": {
        "colab": {
          "base_uri": "https://localhost:8080/"
        },
        "id": "YYv5XT9cP1r7",
        "outputId": "05fb7592-23aa-40a0-f238-02b6aac9c53c"
      },
      "execution_count": null,
      "outputs": [
        {
          "output_type": "stream",
          "name": "stdout",
          "text": [
            "Tensor Product |ψ⟩ ⊗ |ϕ⟩:\n",
            "[0.70710678 0.70710678 0.         0.        ]\n"
          ]
        }
      ]
    },
    {
      "cell_type": "markdown",
      "source": [
        "2. Create an Operator and Execute on State Vector"
      ],
      "metadata": {
        "id": "UtC-FbFsSLGW"
      }
    },
    {
      "cell_type": "code",
      "source": [
        "# 2. Create an Operator and Execute on State Vector\n",
        "\n",
        "# Define a simple operator (e.g., Pauli-X operator)\n",
        "X_operator = np.array([[0, 1],\n",
        "                       [1, 0]])\n",
        "\n",
        "# Execute the operator on the state vector |ψ⟩\n",
        "new_state = X_operator @ psi\n",
        "print(\"\\nNew State after applying X operator on |0⟩:\")\n",
        "print(new_state)"
      ],
      "metadata": {
        "colab": {
          "base_uri": "https://localhost:8080/"
        },
        "id": "f5X8Iel6SM3i",
        "outputId": "279bb4ca-866a-441c-8e9f-6a78d41584da"
      },
      "execution_count": null,
      "outputs": [
        {
          "output_type": "stream",
          "name": "stdout",
          "text": [
            "\n",
            "New State after applying X operator on |0⟩:\n",
            "[0 1]\n"
          ]
        }
      ]
    },
    {
      "cell_type": "markdown",
      "source": [
        "3. Partial Measurement"
      ],
      "metadata": {
        "id": "q5q2-l9GSSHK"
      }
    },
    {
      "cell_type": "code",
      "source": [
        "# 3. Partial Measurement\n",
        "\n",
        "def partial_measure(state, index):\n",
        "    # For simplicity, we consider only measurement of a single qubit\n",
        "    if index == 0:  # Measure the first qubit\n",
        "        return np.array([state[0], state[2]]), np.array([state[1], state[3]])\n",
        "    else:  # Measure the second qubit\n",
        "        return np.array([state[0], state[1]]), np.array([state[2], state[3]])\n",
        "\n",
        "# Get the measurement results\n",
        "measured_0, measured_1 = partial_measure(result, 0)\n",
        "print(\"\\nPartial Measurement Results (Measurement on first qubit):\")\n",
        "print(\"Measured |0⟩ state:\", measured_0)\n",
        "print(\"Measured |1⟩ state:\", measured_1)"
      ],
      "metadata": {
        "colab": {
          "base_uri": "https://localhost:8080/"
        },
        "id": "w9ZaYyV2SUzF",
        "outputId": "f999e646-e3d0-4fbd-c76b-3b4647d36c2e"
      },
      "execution_count": null,
      "outputs": [
        {
          "output_type": "stream",
          "name": "stdout",
          "text": [
            "\n",
            "Partial Measurement Results (Measurement on first qubit):\n",
            "Measured |0⟩ state: [0.70710678 0.        ]\n",
            "Measured |1⟩ state: [0.70710678 0.        ]\n"
          ]
        }
      ]
    },
    {
      "cell_type": "code",
      "source": [
        "# 4. CSWAP and Toffoli Gates\n",
        "\n",
        "# CSWAP Gate\n",
        "CSWAP = np.array([[1, 0, 0, 0, 0, 0, 0, 0],\n",
        "                  [0, 1, 0, 0, 0, 0, 0, 0],\n",
        "                  [0, 0, 1, 0, 0, 0, 0, 0],\n",
        "                  [0, 0, 0, 1, 0, 0, 0, 0],\n",
        "                  [0, 0, 0, 0, 0, 1, 0, 0],\n",
        "                  [0, 0, 0, 0, 1, 0, 0, 0],\n",
        "                  [0, 0, 0, 0, 0, 0, 0, 1],\n",
        "                  [0, 0, 0, 0, 0, 0, 1, 0]])\n",
        "\n",
        "print(\"\\nCSWAP Matrix Representation:\")\n",
        "print(CSWAP)\n",
        "\n",
        "# Toffoli Gate\n",
        "Toffoli = np.array([[1, 0, 0, 0, 0, 0, 0, 0],\n",
        "                    [0, 1, 0, 0, 0, 0, 0, 0],\n",
        "                    [0, 0, 1, 0, 0, 0, 0, 0],\n",
        "                    [0, 0, 0, 1, 0, 0, 0, 0],\n",
        "                    [0, 0, 0, 0, 1, 0, 0, 0],\n",
        "                    [0, 0, 0, 0, 0, 1, 0, 0],\n",
        "                    [0, 0, 0, 0, 0, 0, 0, 1],\n",
        "                    [0, 0, 0, 0, 0, 0, 1, 0]])\n",
        "\n",
        "print(\"\\nToffoli Matrix Representation:\")\n",
        "print(Toffoli)\n"
      ],
      "metadata": {
        "colab": {
          "base_uri": "https://localhost:8080/"
        },
        "id": "BxQd4sTnR5Q6",
        "outputId": "bf313d1a-5c3e-484e-c28b-86882a334276"
      },
      "execution_count": null,
      "outputs": [
        {
          "output_type": "stream",
          "name": "stdout",
          "text": [
            "\n",
            "CSWAP Matrix Representation:\n",
            "[[1 0 0 0 0 0 0 0]\n",
            " [0 1 0 0 0 0 0 0]\n",
            " [0 0 1 0 0 0 0 0]\n",
            " [0 0 0 1 0 0 0 0]\n",
            " [0 0 0 0 0 1 0 0]\n",
            " [0 0 0 0 1 0 0 0]\n",
            " [0 0 0 0 0 0 0 1]\n",
            " [0 0 0 0 0 0 1 0]]\n",
            "\n",
            "Toffoli Matrix Representation:\n",
            "[[1 0 0 0 0 0 0 0]\n",
            " [0 1 0 0 0 0 0 0]\n",
            " [0 0 1 0 0 0 0 0]\n",
            " [0 0 0 1 0 0 0 0]\n",
            " [0 0 0 0 1 0 0 0]\n",
            " [0 0 0 0 0 1 0 0]\n",
            " [0 0 0 0 0 0 0 1]\n",
            " [0 0 0 0 0 0 1 0]]\n"
          ]
        }
      ]
    },
    {
      "cell_type": "markdown",
      "source": [
        "Tensor Product:\n",
        "\n",
        "We define the function tensor_product using NumPy's kron function to compute the tensor product of two vectors.\n",
        "Operator Application:\n",
        "\n",
        "We define a simple Pauli-X operator and apply it to the |0⟩ state vector using matrix multiplication.\n",
        "Partial Measurement:\n",
        "\n",
        "The partial_measure function simulates measuring one of the qubits in the composite state.\n",
        "Gate Representations:\n",
        "\n",
        "The CSWAP and Toffoli gates are defined as 8x8 matrices to represent their action on 3 qubits."
      ],
      "metadata": {
        "id": "NkLLqDQ0Ro0U"
      }
    }
  ]
}